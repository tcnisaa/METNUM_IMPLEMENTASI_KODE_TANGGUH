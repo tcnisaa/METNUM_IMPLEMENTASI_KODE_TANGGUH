{
  "nbformat": 4,
  "nbformat_minor": 0,
  "metadata": {
    "colab": {
      "provenance": [],
      "authorship_tag": "ABX9TyPBSLM51k9dlR0H15uZNbgJ",
      "include_colab_link": true
    },
    "kernelspec": {
      "name": "python3",
      "display_name": "Python 3"
    },
    "language_info": {
      "name": "python"
    }
  },
  "cells": [
    {
      "cell_type": "markdown",
      "metadata": {
        "id": "view-in-github",
        "colab_type": "text"
      },
      "source": [
        "<a href=\"https://colab.research.google.com/github/tcnisaa/TUGAS_METNUM_IMPLEMENTASI_KODE/blob/main/Tugas_Metnum.ipynb\" target=\"_parent\"><img src=\"https://colab.research.google.com/assets/colab-badge.svg\" alt=\"Open In Colab\"/></a>"
      ]
    },
    {
      "cell_type": "markdown",
      "source": [
        "# TUGAS METODE NUMERIK\n",
        "Kelas C\n",
        "Tangguh Chairunnisa - 21120122140103\n"
      ],
      "metadata": {
        "id": "uZPBqKU3BG-X"
      }
    },
    {
      "cell_type": "markdown",
      "source": [
        "matriks balikan"
      ],
      "metadata": {
        "id": "NS_z5M1aAViw"
      }
    },
    {
      "cell_type": "code",
      "execution_count": null,
      "metadata": {
        "colab": {
          "base_uri": "https://localhost:8080/"
        },
        "id": "8piim8tJATNs",
        "outputId": "2ed96c0d-570e-48e4-f530-4ee986139ce6"
      },
      "outputs": [
        {
          "output_type": "stream",
          "name": "stdout",
          "text": [
            "Solusi menggunakan metode matriks balikan: [ 7.11111111 -3.22222222]\n"
          ]
        }
      ],
      "source": [
        "import numpy as np\n",
        "\n",
        "def inverse_matrix_method(A, b):\n",
        "    A_inv = np.linalg.inv(A)\n",
        "    x = np.dot(A_inv, b)\n",
        "    return x\n",
        "\n",
        "# Testing\n",
        "A = np.array([[2, 1], [5, 7]])\n",
        "b = np.array([11, 13])\n",
        "print(\"Solusi menggunakan metode matriks balikan:\", inverse_matrix_method(A, b))\n"
      ]
    },
    {
      "cell_type": "markdown",
      "source": [
        "Dekomposisi LU Gauss"
      ],
      "metadata": {
        "id": "kZzhOIhNAh7c"
      }
    },
    {
      "cell_type": "code",
      "source": [
        "import numpy as np\n",
        "\n",
        "def lu_gauss_method(A, b):\n",
        "    n = len(A)\n",
        "    L = np.eye(n)\n",
        "    U = A.astype(float)  # Mengubah tipe data matriks U menjadi float\n",
        "\n",
        "    for i in range(n-1):\n",
        "        for j in range(i+1, n):\n",
        "            factor = U[j, i] / U[i, i]\n",
        "            L[j, i] = factor\n",
        "            U[j] -= factor * U[i]\n",
        "\n",
        "    y = np.linalg.solve(L, b)\n",
        "    x = np.linalg.solve(U, y)\n",
        "    return x\n",
        "\n",
        "# Testing\n",
        "A = np.array([[2, 1], [5, 7]])\n",
        "b = np.array([11, 13])\n",
        "print(\"Solusi menggunakan metode dekomposisi LU Gauss:\", lu_gauss_method(A, b))\n"
      ],
      "metadata": {
        "colab": {
          "base_uri": "https://localhost:8080/"
        },
        "id": "1iiW18v5Ahko",
        "outputId": "30e94e6e-15ae-429d-fdac-252645d6ee3b"
      },
      "execution_count": null,
      "outputs": [
        {
          "output_type": "stream",
          "name": "stdout",
          "text": [
            "Solusi menggunakan metode dekomposisi LU Gauss: [ 7.11111111 -3.22222222]\n"
          ]
        }
      ]
    },
    {
      "cell_type": "markdown",
      "source": [
        "Dekomposisi Crout"
      ],
      "metadata": {
        "id": "qTkOko9dAyS6"
      }
    },
    {
      "cell_type": "code",
      "source": [
        "import numpy as np\n",
        "\n",
        "def crout_method(A, b):\n",
        "    n = len(A)\n",
        "    L = np.zeros((n, n))\n",
        "    U = np.zeros((n, n))\n",
        "\n",
        "    for j in range(n):\n",
        "        U[j, j] = 1\n",
        "        for i in range(j, n):\n",
        "            sum1 = sum(U[k, j] * L[i, k] for k in range(j))\n",
        "            L[i, j] = A[i, j] - sum1\n",
        "\n",
        "        for i in range(j, n):\n",
        "            sum2 = sum(U[k, j] * L[j, i] for k in range(j))\n",
        "            U[j, i] = (A[j, i] - sum2) / L[j, j]\n",
        "\n",
        "    y = np.linalg.solve(L, b)\n",
        "    x = np.linalg.solve(U, y)\n",
        "    return x\n",
        "\n",
        "# Testing\n",
        "A = np.array([[2, 1], [5, 7]])\n",
        "b = np.array([11, 13])\n",
        "print(\"Solusi menggunakan metode dekomposisi Crout:\", crout_method(A, b))\n"
      ],
      "metadata": {
        "colab": {
          "base_uri": "https://localhost:8080/"
        },
        "id": "QTN6LpohAy2A",
        "outputId": "c754a340-a4f4-4d52-e781-e84aa7bf5cc2"
      },
      "execution_count": null,
      "outputs": [
        {
          "output_type": "stream",
          "name": "stdout",
          "text": [
            "Solusi menggunakan metode dekomposisi Crout: [ 7.02631579 -3.05263158]\n"
          ]
        }
      ]
    }
  ]
}